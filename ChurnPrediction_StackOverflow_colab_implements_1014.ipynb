{
  "nbformat": 4,
  "nbformat_minor": 0,
  "metadata": {
    "colab": {
      "name": "ChurnPrediction_StackOverflow_colab.ipynb",
      "provenance": [],
      "collapsed_sections": []
    },
    "kernelspec": {
      "display_name": "Python 3",
      "language": "python",
      "name": "python3"
    },
    "language_info": {
      "codemirror_mode": {
        "name": "ipython",
        "version": 3
      },
      "file_extension": ".py",
      "mimetype": "text/x-python",
      "name": "python",
      "nbconvert_exporter": "python",
      "pygments_lexer": "ipython3",
      "version": "3.7.3"
    }
  },
  "cells": [
    {
      "cell_type": "markdown",
      "metadata": {
        "colab_type": "text",
        "id": "ROIppmEol7Ra"
      },
      "source": [
        "Paper: https://www.andrew.cmu.edu/user/lakoglu/pubs/StackOverflow-churn.pdf\n",
        "\n",
        "Description of datasets: https://ia800107.us.archive.org/27/items/stackexchange/readme.txt\n",
        "\n",
        "Site for download of datasets: https://archive.org/details/stackexchange\n",
        "\n",
        "This code has 6 steps\n",
        "\n",
        "    1. Load StackOverflow datasets as dataframe\n",
        "    2. Extract and label the datasets for each tasks\n",
        "    3. Extract & analyze features for each tasks\n",
        "    4. Analyze features\n",
        "    5. Train models for each tasks with the features\n",
        "    6. Draw the graphs in the paper"
      ]
    },
    {
      "cell_type": "markdown",
      "metadata": {
        "colab_type": "text",
        "id": "kl2oTvfkl7Rb"
      },
      "source": [
        "1. Load StackOverflow datasets as dataframe"
      ]
    },
    {
      "cell_type": "code",
      "metadata": {
        "colab_type": "code",
        "id": "Dn14pQ4vowkV",
        "outputId": "1e9aee83-b5c9-4621-f071-3c923e5ff75a",
        "colab": {
          "base_uri": "https://localhost:8080/",
          "height": 85
        }
      },
      "source": [
        "import sys\n",
        "!{sys.executable} -m pip install xmltodict"
      ],
      "execution_count": 1,
      "outputs": [
        {
          "output_type": "stream",
          "text": [
            "Collecting xmltodict\n",
            "  Downloading https://files.pythonhosted.org/packages/28/fd/30d5c1d3ac29ce229f6bdc40bbc20b28f716e8b363140c26eff19122d8a5/xmltodict-0.12.0-py2.py3-none-any.whl\n",
            "Installing collected packages: xmltodict\n",
            "Successfully installed xmltodict-0.12.0\n"
          ],
          "name": "stdout"
        }
      ]
    },
    {
      "cell_type": "code",
      "metadata": {
        "colab_type": "code",
        "id": "6Ig3ZhwioqcF",
        "colab": {}
      },
      "source": [
        "!pip install -U -q PyDrive\n",
        "from pydrive.auth import GoogleAuth\n",
        "from pydrive.drive import GoogleDrive\n",
        "from google.colab import auth\n",
        "from oauth2client.client import GoogleCredentials\n",
        "\n",
        "import xmltodict\n",
        "import pandas as pd\n",
        "import numpy as np\n",
        "import matplotlib.pyplot as plt\n",
        "\n",
        "auth.authenticate_user()\n",
        "gauth = GoogleAuth()\n",
        "gauth.credentials = GoogleCredentials.get_application_default()\n",
        "drive = GoogleDrive(gauth)"
      ],
      "execution_count": 0,
      "outputs": []
    },
    {
      "cell_type": "code",
      "metadata": {
        "colab_type": "code",
        "id": "zzRJ4hV7o5OO",
        "outputId": "7402b7b3-f2b5-4938-cdea-115459e7d05d",
        "colab": {
          "base_uri": "https://localhost:8080/",
          "height": 68
        }
      },
      "source": [
        "def load_from_google_drive(dir_id):\n",
        "    files = []\n",
        "    file_list = drive.ListFile({'q': \"'{}' in parents\".format(dir_id)}).GetList()\n",
        "    for f in file_list:\n",
        "        if f['title'] in ['Users.xml', 'Posts.xml',\n",
        "                          'users_reduce.pkl', 'posts_reduce.pkl']\\\n",
        "                or 'pkl' in f['title'] or 'csv' in f['title']:\n",
        "            print('  Load file: {}'.format(f['title']))\n",
        "            f_ = drive.CreateFile({'id': f['id']})\n",
        "            f_.GetContentFile(f['title'])\n",
        "            files.append(f['title'])\n",
        "    return files\n",
        "  \n",
        "  \n",
        "# load_from_google_drive('1Fp_7GDH_t7xfnU8aXeKrcBC54_nECOcu')  ###| Full dataset\n",
        "# load_from_google_drive('1haYAgCV-TqTMYIk8N4eGE9H4hY2np5xr')   ### Small dataset\n",
        "load_from_google_drive('1CRE27AaxJuX-9Kxtgk2GnmxQt6ECHeJS')   ### Tiny dataset\n"
      ],
      "execution_count": 6,
      "outputs": [
        {
          "output_type": "stream",
          "text": [
            "  Load file: Users.xml\n",
            "  Load file: Posts.xml\n"
          ],
          "name": "stdout"
        },
        {
          "output_type": "execute_result",
          "data": {
            "text/plain": [
              "['Users.xml', 'Posts.xml']"
            ]
          },
          "metadata": {
            "tags": []
          },
          "execution_count": 6
        }
      ]
    },
    {
      "cell_type": "code",
      "metadata": {
        "colab_type": "code",
        "id": "-WVN3f18l7Rj",
        "colab": {}
      },
      "source": [
        "# Read xml file and transform to pandas dataframe\n",
        "\n",
        "def xml2df(xml_path):\n",
        "    with open(xml_path) as f:\n",
        "        dict_xml = xmltodict.parse(f.read())\n",
        "        key = xml_path.split('.')[0].lower()\n",
        "        xml_df = pd.DataFrame(dict_xml[key]['row'])\n",
        "        xml_df.columns = xml_df.columns.str.lstrip('@')\n",
        "\n",
        "        return xml_df"
      ],
      "execution_count": 0,
      "outputs": []
    },
    {
      "cell_type": "code",
      "metadata": {
        "colab_type": "code",
        "id": "La1dwgRWl7Rl",
        "scrolled": true,
        "outputId": "cba0c447-6a9e-40cf-aeaa-5d1c91a8e4ea",
        "colab": {
          "base_uri": "https://localhost:8080/",
          "height": 289
        }
      },
      "source": [
        "# 1. Read Users.xml\n",
        "\n",
        "xml_path = 'Users.xml'\n",
        "users_df = xml2df(xml_path)\n",
        "\n",
        "# 2. Change data type of columns\n",
        "users_df.head()\n",
        "users_df['CreationDate'] = pd.to_datetime(users_df['CreationDate'])\n",
        "users_df.dropna(subset=['Id'], inplace=True)\n",
        "users_df['Id'] = users_df['Id'].astype(np.int64)\n",
        "users_df.head()"
      ],
      "execution_count": 7,
      "outputs": [
        {
          "output_type": "execute_result",
          "data": {
            "text/html": [
              "<div>\n",
              "<style scoped>\n",
              "    .dataframe tbody tr th:only-of-type {\n",
              "        vertical-align: middle;\n",
              "    }\n",
              "\n",
              "    .dataframe tbody tr th {\n",
              "        vertical-align: top;\n",
              "    }\n",
              "\n",
              "    .dataframe thead th {\n",
              "        text-align: right;\n",
              "    }\n",
              "</style>\n",
              "<table border=\"1\" class=\"dataframe\">\n",
              "  <thead>\n",
              "    <tr style=\"text-align: right;\">\n",
              "      <th></th>\n",
              "      <th>Id</th>\n",
              "      <th>Reputation</th>\n",
              "      <th>CreationDate</th>\n",
              "      <th>DisplayName</th>\n",
              "      <th>LastAccessDate</th>\n",
              "      <th>Location</th>\n",
              "      <th>AboutMe</th>\n",
              "      <th>Views</th>\n",
              "      <th>UpVotes</th>\n",
              "      <th>DownVotes</th>\n",
              "      <th>AccountId</th>\n",
              "      <th>WebsiteUrl</th>\n",
              "      <th>ProfileImageUrl</th>\n",
              "    </tr>\n",
              "  </thead>\n",
              "  <tbody>\n",
              "    <tr>\n",
              "      <th>0</th>\n",
              "      <td>-1</td>\n",
              "      <td>1</td>\n",
              "      <td>2012-02-14 18:31:47.350</td>\n",
              "      <td>Community</td>\n",
              "      <td>2012-02-14T18:31:47.350</td>\n",
              "      <td>on the server farm</td>\n",
              "      <td>&lt;p&gt;Hi, I'm not really a person.&lt;/p&gt;\\n\\n&lt;p&gt;I'm ...</td>\n",
              "      <td>73</td>\n",
              "      <td>51</td>\n",
              "      <td>17</td>\n",
              "      <td>-1</td>\n",
              "      <td>NaN</td>\n",
              "      <td>NaN</td>\n",
              "    </tr>\n",
              "    <tr>\n",
              "      <th>1</th>\n",
              "      <td>2</td>\n",
              "      <td>101</td>\n",
              "      <td>2012-02-14 20:17:36.000</td>\n",
              "      <td>Geoff Dalgas</td>\n",
              "      <td>2014-08-29T13:45:59.997</td>\n",
              "      <td>Corvallis, OR</td>\n",
              "      <td>&lt;p&gt;Developer on the Stack Overflow team.  Find...</td>\n",
              "      <td>0</td>\n",
              "      <td>1</td>\n",
              "      <td>0</td>\n",
              "      <td>2</td>\n",
              "      <td>http://stackoverflow.com</td>\n",
              "      <td>https://i.stack.imgur.com/nDllk.png</td>\n",
              "    </tr>\n",
              "    <tr>\n",
              "      <th>2</th>\n",
              "      <td>3</td>\n",
              "      <td>3114</td>\n",
              "      <td>2012-02-14 20:20:16.000</td>\n",
              "      <td>Andy W</td>\n",
              "      <td>2017-10-28T00:57:06.677</td>\n",
              "      <td>Dallas, TX, United States</td>\n",
              "      <td>&lt;p&gt;Assistant professor of criminology at the U...</td>\n",
              "      <td>8</td>\n",
              "      <td>291</td>\n",
              "      <td>15</td>\n",
              "      <td>298433</td>\n",
              "      <td>http://andrewpwheeler.wordpress.com/</td>\n",
              "      <td>NaN</td>\n",
              "    </tr>\n",
              "    <tr>\n",
              "      <th>3</th>\n",
              "      <td>5</td>\n",
              "      <td>1969</td>\n",
              "      <td>2012-02-14 20:22:08.000</td>\n",
              "      <td>Stefano Borini</td>\n",
              "      <td>2014-05-24T05:16:16.957</td>\n",
              "      <td>NaN</td>\n",
              "      <td>NaN</td>\n",
              "      <td>52</td>\n",
              "      <td>2</td>\n",
              "      <td>0</td>\n",
              "      <td>29108</td>\n",
              "      <td>http://ForTheScience.org</td>\n",
              "      <td>NaN</td>\n",
              "    </tr>\n",
              "    <tr>\n",
              "      <th>4</th>\n",
              "      <td>6</td>\n",
              "      <td>445</td>\n",
              "      <td>2012-02-14 20:22:35.000</td>\n",
              "      <td>Brian Ballsun-Stanton</td>\n",
              "      <td>2012-02-20T19:25:09.473</td>\n",
              "      <td>Sydney, Australia</td>\n",
              "      <td>&lt;p&gt;Dr. Brian Ballsun-Stanton is a Philosopher,...</td>\n",
              "      <td>0</td>\n",
              "      <td>0</td>\n",
              "      <td>0</td>\n",
              "      <td>97049</td>\n",
              "      <td>http://denubis.wordpress.com</td>\n",
              "      <td>https://i.stack.imgur.com/jUaZ0.jpg</td>\n",
              "    </tr>\n",
              "  </tbody>\n",
              "</table>\n",
              "</div>"
            ],
            "text/plain": [
              "   Id  ...                      ProfileImageUrl\n",
              "0  -1  ...                                  NaN\n",
              "1   2  ...  https://i.stack.imgur.com/nDllk.png\n",
              "2   3  ...                                  NaN\n",
              "3   5  ...                                  NaN\n",
              "4   6  ...  https://i.stack.imgur.com/jUaZ0.jpg\n",
              "\n",
              "[5 rows x 13 columns]"
            ]
          },
          "metadata": {
            "tags": []
          },
          "execution_count": 7
        }
      ]
    },
    {
      "cell_type": "code",
      "metadata": {
        "colab_type": "code",
        "id": "I1r52Jogl7Rn",
        "scrolled": true,
        "outputId": "04a5720c-8ac6-4b32-f179-1f5b6bfc7497",
        "colab": {
          "base_uri": "https://localhost:8080/",
          "height": 513
        }
      },
      "source": [
        "# 1. Read Posts.xml\n",
        "\n",
        "xml_path = 'Posts.xml'\n",
        "posts_df = xml2df(xml_path)\n",
        "\n",
        "# 2. Change data type of columns\n",
        "posts_df.head()\n",
        "posts_df['CreationDate'] = pd.to_datetime(posts_df['CreationDate'])\n",
        "posts_df.dropna(subset=['OwnerUserId'], inplace=True)\n",
        "posts_df['OwnerUserId'] = posts_df['OwnerUserId'].astype(np.int64)\n",
        "posts_df['PostTypeId'] = posts_df['PostTypeId'].astype(np.int64)\n",
        "posts_df.head()"
      ],
      "execution_count": 301,
      "outputs": [
        {
          "output_type": "execute_result",
          "data": {
            "text/html": [
              "<div>\n",
              "<style scoped>\n",
              "    .dataframe tbody tr th:only-of-type {\n",
              "        vertical-align: middle;\n",
              "    }\n",
              "\n",
              "    .dataframe tbody tr th {\n",
              "        vertical-align: top;\n",
              "    }\n",
              "\n",
              "    .dataframe thead th {\n",
              "        text-align: right;\n",
              "    }\n",
              "</style>\n",
              "<table border=\"1\" class=\"dataframe\">\n",
              "  <thead>\n",
              "    <tr style=\"text-align: right;\">\n",
              "      <th></th>\n",
              "      <th>Id</th>\n",
              "      <th>PostTypeId</th>\n",
              "      <th>CreationDate</th>\n",
              "      <th>Score</th>\n",
              "      <th>ViewCount</th>\n",
              "      <th>Body</th>\n",
              "      <th>OwnerUserId</th>\n",
              "      <th>LastEditorUserId</th>\n",
              "      <th>LastEditDate</th>\n",
              "      <th>LastActivityDate</th>\n",
              "      <th>Title</th>\n",
              "      <th>Tags</th>\n",
              "      <th>AnswerCount</th>\n",
              "      <th>CommentCount</th>\n",
              "      <th>ParentId</th>\n",
              "      <th>OwnerDisplayName</th>\n",
              "      <th>AcceptedAnswerId</th>\n",
              "      <th>FavoriteCount</th>\n",
              "      <th>ClosedDate</th>\n",
              "      <th>LastEditorDisplayName</th>\n",
              "      <th>CommunityOwnedDate</th>\n",
              "    </tr>\n",
              "  </thead>\n",
              "  <tbody>\n",
              "    <tr>\n",
              "      <th>0</th>\n",
              "      <td>1</td>\n",
              "      <td>1</td>\n",
              "      <td>2012-02-14 20:39:10.140</td>\n",
              "      <td>4</td>\n",
              "      <td>114</td>\n",
              "      <td>&lt;p&gt;I would like to open the meta discussion on...</td>\n",
              "      <td>5</td>\n",
              "      <td>40592</td>\n",
              "      <td>2016-08-15T14:58:04.950</td>\n",
              "      <td>2016-08-15T14:58:04.950</td>\n",
              "      <td>Softness of the closing criteria</td>\n",
              "      <td>&lt;discussion&gt;</td>\n",
              "      <td>2</td>\n",
              "      <td>0</td>\n",
              "      <td>NaN</td>\n",
              "      <td>NaN</td>\n",
              "      <td>NaN</td>\n",
              "      <td>NaN</td>\n",
              "      <td>NaN</td>\n",
              "      <td>NaN</td>\n",
              "      <td>NaN</td>\n",
              "    </tr>\n",
              "    <tr>\n",
              "      <th>1</th>\n",
              "      <td>2</td>\n",
              "      <td>1</td>\n",
              "      <td>2012-02-14 20:41:04.273</td>\n",
              "      <td>3</td>\n",
              "      <td>108</td>\n",
              "      <td>&lt;p&gt;Suppose user X comes in and ask \"How is the...</td>\n",
              "      <td>5</td>\n",
              "      <td>NaN</td>\n",
              "      <td>NaN</td>\n",
              "      <td>2012-02-14T21:06:26.337</td>\n",
              "      <td>How should we behave for the \"reference\" quest...</td>\n",
              "      <td>&lt;discussion&gt;</td>\n",
              "      <td>1</td>\n",
              "      <td>0</td>\n",
              "      <td>NaN</td>\n",
              "      <td>NaN</td>\n",
              "      <td>NaN</td>\n",
              "      <td>NaN</td>\n",
              "      <td>NaN</td>\n",
              "      <td>NaN</td>\n",
              "      <td>NaN</td>\n",
              "    </tr>\n",
              "    <tr>\n",
              "      <th>3</th>\n",
              "      <td>4</td>\n",
              "      <td>1</td>\n",
              "      <td>2012-02-14 21:37:15.053</td>\n",
              "      <td>3</td>\n",
              "      <td>67</td>\n",
              "      <td>&lt;p&gt;I think several questions are doing to be f...</td>\n",
              "      <td>30</td>\n",
              "      <td>NaN</td>\n",
              "      <td>NaN</td>\n",
              "      <td>2012-02-14T21:46:33.213</td>\n",
              "      <td>Is community wiki not available during beta?</td>\n",
              "      <td>&lt;discussion&gt;&lt;community-wiki&gt;</td>\n",
              "      <td>1</td>\n",
              "      <td>0</td>\n",
              "      <td>NaN</td>\n",
              "      <td>NaN</td>\n",
              "      <td>5</td>\n",
              "      <td>1</td>\n",
              "      <td>NaN</td>\n",
              "      <td>NaN</td>\n",
              "      <td>NaN</td>\n",
              "    </tr>\n",
              "    <tr>\n",
              "      <th>4</th>\n",
              "      <td>5</td>\n",
              "      <td>2</td>\n",
              "      <td>2012-02-14 21:46:33.213</td>\n",
              "      <td>5</td>\n",
              "      <td>NaN</td>\n",
              "      <td>&lt;p&gt;Community wiki &lt;em&gt;questions&lt;/em&gt; are a mod...</td>\n",
              "      <td>23</td>\n",
              "      <td>NaN</td>\n",
              "      <td>NaN</td>\n",
              "      <td>2012-02-14T21:46:33.213</td>\n",
              "      <td>NaN</td>\n",
              "      <td>NaN</td>\n",
              "      <td>NaN</td>\n",
              "      <td>1</td>\n",
              "      <td>4</td>\n",
              "      <td>NaN</td>\n",
              "      <td>NaN</td>\n",
              "      <td>NaN</td>\n",
              "      <td>NaN</td>\n",
              "      <td>NaN</td>\n",
              "      <td>NaN</td>\n",
              "    </tr>\n",
              "    <tr>\n",
              "      <th>5</th>\n",
              "      <td>6</td>\n",
              "      <td>2</td>\n",
              "      <td>2012-02-14 22:07:56.987</td>\n",
              "      <td>4</td>\n",
              "      <td>NaN</td>\n",
              "      <td>&lt;p&gt;I think it is a bit early to formulate poli...</td>\n",
              "      <td>31</td>\n",
              "      <td>NaN</td>\n",
              "      <td>NaN</td>\n",
              "      <td>2012-02-14T22:07:56.987</td>\n",
              "      <td>NaN</td>\n",
              "      <td>NaN</td>\n",
              "      <td>NaN</td>\n",
              "      <td>0</td>\n",
              "      <td>1</td>\n",
              "      <td>NaN</td>\n",
              "      <td>NaN</td>\n",
              "      <td>NaN</td>\n",
              "      <td>NaN</td>\n",
              "      <td>NaN</td>\n",
              "      <td>NaN</td>\n",
              "    </tr>\n",
              "  </tbody>\n",
              "</table>\n",
              "</div>"
            ],
            "text/plain": [
              "  Id  PostTypeId  ... LastEditorDisplayName CommunityOwnedDate\n",
              "0  1           1  ...                   NaN                NaN\n",
              "1  2           1  ...                   NaN                NaN\n",
              "3  4           1  ...                   NaN                NaN\n",
              "4  5           2  ...                   NaN                NaN\n",
              "5  6           2  ...                   NaN                NaN\n",
              "\n",
              "[5 rows x 21 columns]"
            ]
          },
          "metadata": {
            "tags": []
          },
          "execution_count": 301
        }
      ]
    },
    {
      "cell_type": "code",
      "metadata": {
        "id": "kahiw9eDlfk4",
        "colab_type": "code",
        "outputId": "e714422d-e305-4641-873e-35692415b84f",
        "colab": {
          "base_uri": "https://localhost:8080/",
          "height": 701
        }
      },
      "source": [
        "posts_df['AcceptedAnswerId'].unique()"
      ],
      "execution_count": 0,
      "outputs": [
        {
          "output_type": "execute_result",
          "data": {
            "text/plain": [
              "array([nan, '5', '26', '9', '14', '28', '38', '47', '52', '61', '67',\n",
              "       '71', '75', '98', '105', '117', '154', '160', '162', '167', '173',\n",
              "       '185', '183', '189', '193', '202', '209', '289', '304', '308',\n",
              "       '318', '324', '328', '331', '356', '379', '406', '422', '427',\n",
              "       '460', '479', '489', '492', '498', '567', '536', '538', '547',\n",
              "       '552', '560', '579', '611', '621', '636', '637', '672', '684',\n",
              "       '703', '698', '701', '708', '707', '716', '753', '847', '828',\n",
              "       '836', '848', '871', '870', '873', '877', '883', '890', '916',\n",
              "       '924', '940', '957', '971', '973', '988', '1006', '1030', '1060',\n",
              "       '1079', '1085', '1088', '1113', '1096', '1108', '1115', '1127',\n",
              "       '1132', '1134', '1146', '1150', '1152', '1156', '1167', '1171',\n",
              "       '1177', '1209', '1223', '1244', '1249', '1255', '1271', '1279',\n",
              "       '1287', '1311', '1320', '1323', '1336', '1334', '1345', '1348',\n",
              "       '1366', '1436', '1439', '1441', '1451', '1463', '1477', '1493',\n",
              "       '1520', '1552', '4130', '1563', '1584', '1597', '1592', '1600',\n",
              "       '1607', '1622', '1624', '1683', '1691', '1706', '1719', '1741',\n",
              "       '1744', '1754', '1757', '1765', '1767', '1770', '1776', '1791',\n",
              "       '1807', '1829', '1863', '1868', '1891', '1895', '1897', '1903',\n",
              "       '1906', '1918', '1921', '1927', '1929', '1932', '1937', '1943',\n",
              "       '1948', '1972', '1956', '1958', '1995', '1969', '1987', '1994',\n",
              "       '1996', '2000', '2002', '2005', '2007', '2009', '2011', '2020',\n",
              "       '2027', '2031', '2036', '2081', '2099', '2084', '2094', '2105',\n",
              "       '2113', '2110', '2115', '2128', '2129', '2138', '2185', '2190',\n",
              "       '2195', '2199', '2205', '2211', '2213', '2215', '2217', '3257',\n",
              "       '3276', '3296', '3312', '3317', '3319', '3326', '3341', '3346',\n",
              "       '3348', '3350', '3355', '3390', '3399', '3402', '3407', '3418',\n",
              "       '3442', '3479', '3520', '3525', '3529', '3531', '3536', '3542',\n",
              "       '3552', '3606', '3566', '3578', '3612', '3615', '3635', '3658',\n",
              "       '3685', '3695', '3699', '3701', '3705', '3823', '3712', '3714',\n",
              "       '3719', '3723', '3740', '3748', '3753', '3757', '3760', '3780',\n",
              "       '3825', '3844', '3847', '3854', '3860', '3872', '3874', '3887',\n",
              "       '3892', '3915', '3925', '3936', '3952', '3957', '3970', '3973',\n",
              "       '3987', '3993', '4012', '4040', '4048', '4043', '4095', '4064',\n",
              "       '4132', '4119', '4131', '4143', '4178', '4216', '4232', '4231',\n",
              "       '4243', '4253', '4255', '4258', '4264', '4284', '4304', '4341',\n",
              "       '4329', '4331', '4345', '4378', '4398', '4402', '4419', '4421',\n",
              "       '4423', '4437', '4442', '4453', '4466', '4482', '4515', '4525'],\n",
              "      dtype=object)"
            ]
          },
          "metadata": {
            "tags": []
          },
          "execution_count": 262
        }
      ]
    },
    {
      "cell_type": "code",
      "metadata": {
        "colab_type": "code",
        "id": "92Q2l4Fgl7Rp",
        "outputId": "1400b091-846f-44ba-d198-1330f816aaaa",
        "colab": {
          "base_uri": "https://localhost:8080/",
          "height": 122
        }
      },
      "source": [
        "# Save and Load dataframe\n",
        "from google.colab import drive\n",
        "drive.mount('/content/gdrive')\n",
        "\n",
        "def save_df(df, filename):\n",
        "    df.to_pickle(\"{}.pkl\".format(filename))\n",
        "\n",
        "    \n",
        "def load_df(filename):\n",
        "    return pd.read_pickle(\"{}.pkl\".format(filename))\n",
        "\n",
        "  \n"
      ],
      "execution_count": 9,
      "outputs": [
        {
          "output_type": "stream",
          "text": [
            "Go to this URL in a browser: https://accounts.google.com/o/oauth2/auth?client_id=947318989803-6bn6qk8qdgf4n4g3pfee6491hc0brc4i.apps.googleusercontent.com&redirect_uri=urn%3Aietf%3Awg%3Aoauth%3A2.0%3Aoob&scope=email%20https%3A%2F%2Fwww.googleapis.com%2Fauth%2Fdocs.test%20https%3A%2F%2Fwww.googleapis.com%2Fauth%2Fdrive%20https%3A%2F%2Fwww.googleapis.com%2Fauth%2Fdrive.photos.readonly%20https%3A%2F%2Fwww.googleapis.com%2Fauth%2Fpeopleapi.readonly&response_type=code\n",
            "\n",
            "Enter your authorization code:\n",
            "··········\n",
            "Mounted at /content/gdrive\n"
          ],
          "name": "stdout"
        }
      ]
    },
    {
      "cell_type": "markdown",
      "metadata": {
        "colab_type": "text",
        "id": "sWRRBPB1l7Rr"
      },
      "source": [
        "2. Extract and label the datasets for each tasks\n",
        "\n",
        "You should extract the dataset for the period of the dataset: July 31, 2008 ~  July 31, 2012 \n",
        "\n",
        "There are 2 tasks:\n",
        "\n",
        "    A. After a user's K-th post, predict how likely it is that the user will churn\n",
        "    B. After the T-th day from the account creation of a user, predict how likely it is that the user will churn"
      ]
    },
    {
      "cell_type": "code",
      "metadata": {
        "colab_type": "code",
        "id": "MLCNCd48l7Rs",
        "outputId": "e9ed0d0c-a187-49c7-de55-9c2ced75fbca",
        "colab": {
          "base_uri": "https://localhost:8080/",
          "height": 187
        }
      },
      "source": [
        "# Users와 posts를 CreationDate 기준으로 filtering (July 31, 2008 ~  July 31, 2012)\n",
        "\n",
        "start_time = pd.to_datetime('2008-07-31')\n",
        "end_time = pd.to_datetime('2012-07-31')\n",
        "\n",
        "posts_df = posts_df[(posts_df['CreationDate'] >= start_time) & (posts_df['CreationDate'] <= end_time)]\n",
        "print(posts_df.columns)\n",
        "users_df = users_df[(users_df['CreationDate'] >= start_time) & (users_df['CreationDate'] <= end_time)]\n",
        "print(users_df.columns)"
      ],
      "execution_count": 247,
      "outputs": [
        {
          "output_type": "stream",
          "text": [
            "Index(['Id', 'PostTypeId', 'CreationDate', 'Score', 'ViewCount', 'Body',\n",
            "       'OwnerUserId', 'LastEditorUserId', 'LastEditDate', 'LastActivityDate',\n",
            "       'Title', 'Tags', 'AnswerCount', 'CommentCount', 'ParentId',\n",
            "       'OwnerDisplayName', 'AcceptedAnswerId', 'FavoriteCount', 'ClosedDate',\n",
            "       'LastEditorDisplayName', 'CommunityOwnedDate'],\n",
            "      dtype='object')\n",
            "Index(['Id', 'Reputation', 'CreationDate', 'DisplayName', 'LastAccessDate',\n",
            "       'Location', 'AboutMe', 'Views', 'UpVotes', 'DownVotes', 'AccountId',\n",
            "       'WebsiteUrl', 'ProfileImageUrl'],\n",
            "      dtype='object')\n"
          ],
          "name": "stdout"
        }
      ]
    },
    {
      "cell_type": "code",
      "metadata": {
        "colab_type": "code",
        "id": "wklf3QB8l7Ru",
        "colab": {}
      },
      "source": [
        "# Dataset in Task 1\n",
        "#   Users: Post가 K개 이상인 user만 추출\n",
        "#   Posts: User의 CreationDate 이후 K개의 posts만 추출\n",
        "\n",
        "def getTask1Posts(posts, K=20):\n",
        "    return posts[posts['OwnerUserId'] > 0].groupby('OwnerUserId').filter(lambda post : len(post) >= K).groupby('OwnerUserId', as_index=False).apply(lambda owner : owner.nsmallest(K, 'CreationDate')).reset_index(level = 1, drop=True)\n",
        "\n",
        "def getTask1Users(users, posts, K=20):\n",
        "     return pd.DataFrame(posts[posts['OwnerUserId'] > 0].groupby('OwnerUserId').filter(lambda post : len(post) >= K)['OwnerUserId'].drop_duplicates())\n",
        "#     return posts[posts['OwnerUserId'] > 0].groupby('OwnerUserId').filter(lambda post : len(post) >= K).groupby('OwnerUserId')['CreationDate'].nsmallest(K).index.unique(level=0)"
      ],
      "execution_count": 0,
      "outputs": []
    },
    {
      "cell_type": "code",
      "metadata": {
        "id": "6KME1YTqUZBT",
        "colab_type": "code",
        "outputId": "ea9550cd-cfad-4432-a80c-0ca3d86344e8",
        "colab": {
          "base_uri": "https://localhost:8080/",
          "height": 145
        }
      },
      "source": [
        "getTask1Users(users_df.set_index('Id'),posts_df)\n",
        "\n",
        "# getTask1Users(users_df, posts_df)\n",
        "# post_temp = getTask1Users(users_df[users_df['Id'].isin(posts['OwnerUserId'])], posts)"
      ],
      "execution_count": 0,
      "outputs": [
        {
          "output_type": "execute_result",
          "data": {
            "text/html": [
              "<div>\n",
              "<style scoped>\n",
              "    .dataframe tbody tr th:only-of-type {\n",
              "        vertical-align: middle;\n",
              "    }\n",
              "\n",
              "    .dataframe tbody tr th {\n",
              "        vertical-align: top;\n",
              "    }\n",
              "\n",
              "    .dataframe thead th {\n",
              "        text-align: right;\n",
              "    }\n",
              "</style>\n",
              "<table border=\"1\" class=\"dataframe\">\n",
              "  <thead>\n",
              "    <tr style=\"text-align: right;\">\n",
              "      <th></th>\n",
              "      <th>Reputation</th>\n",
              "      <th>CreationDate</th>\n",
              "      <th>DisplayName</th>\n",
              "      <th>LastAccessDate</th>\n",
              "      <th>Location</th>\n",
              "      <th>AboutMe</th>\n",
              "      <th>Views</th>\n",
              "      <th>UpVotes</th>\n",
              "      <th>DownVotes</th>\n",
              "      <th>AccountId</th>\n",
              "      <th>WebsiteUrl</th>\n",
              "      <th>ProfileImageUrl</th>\n",
              "      <th>posts</th>\n",
              "    </tr>\n",
              "    <tr>\n",
              "      <th>Id</th>\n",
              "      <th></th>\n",
              "      <th></th>\n",
              "      <th></th>\n",
              "      <th></th>\n",
              "      <th></th>\n",
              "      <th></th>\n",
              "      <th></th>\n",
              "      <th></th>\n",
              "      <th></th>\n",
              "      <th></th>\n",
              "      <th></th>\n",
              "      <th></th>\n",
              "      <th></th>\n",
              "    </tr>\n",
              "  </thead>\n",
              "  <tbody>\n",
              "    <tr>\n",
              "      <th>73</th>\n",
              "      <td>42744</td>\n",
              "      <td>2012-02-15 00:04:47</td>\n",
              "      <td>eykanal</td>\n",
              "      <td>2019-08-28T17:51:31.323</td>\n",
              "      <td>NaN</td>\n",
              "      <td>&lt;p&gt;I'm currently working in CMU's Software Eng...</td>\n",
              "      <td>292</td>\n",
              "      <td>356</td>\n",
              "      <td>47</td>\n",
              "      <td>56350</td>\n",
              "      <td>http://blog.erikdev.com/</td>\n",
              "      <td>NaN</td>\n",
              "      <td>Id PostTypeId  ... LastEditorDisplayName...</td>\n",
              "    </tr>\n",
              "  </tbody>\n",
              "</table>\n",
              "</div>"
            ],
            "text/plain": [
              "   Reputation  ...                                              posts\n",
              "Id             ...                                                   \n",
              "73      42744  ...        Id PostTypeId  ... LastEditorDisplayName...\n",
              "\n",
              "[1 rows x 13 columns]"
            ]
          },
          "metadata": {
            "tags": []
          },
          "execution_count": 301
        }
      ]
    },
    {
      "cell_type": "code",
      "metadata": {
        "colab_type": "code",
        "id": "pmB8yt20l7Rv",
        "colab": {}
      },
      "source": [
        "# Dataset in Task 2\n",
        "#   Users: Post가 1개 이상인 user만 추출\n",
        "#   Posts: User의 CreationDate로부터 T days 이내에 생성된 posts만 추출\n",
        "\n",
        "def getTask2Posts(users, posts, T=30):\n",
        "#     return posts[posts['OwnerUserId'] > 0].groupby('OwnerUserId').filter(lambda post : len(post) >= K).groupby('OwnerUserId')['CreationDate'].nsmallest(K).index.unique(level=0)\n",
        "#       return users.apply(lambda user : posts[(posts['OwnerUserId'] == user['Id']) & (posts['CreationDate'] >= user['CreationDate']) & (posts['CreationDate'] <= user['CreationDate'] +  pd.to_timedelta(T, 'days'))].sort_values('CreationDate'), axis=1)\n",
        "#     return posts[posts['OwnerUserId'] > 0].groupby('OwnerUserId').apply(lambda owner : owner[(owner['CreationDate'] >= users[users['Id'] == owner.index.unique()[0]]['CreationDate']) & (owner['CreationDate'] <= users[users['Id'] == owner['OwnerUserId'].unique()[0]][CreationDate] + timedelta(days=T))]).reset_index(level = 1, drop=True)\n",
        "    return posts[posts['OwnerUserId'] > 0].groupby('OwnerUserId').apply(lambda owner : owner[(owner['CreationDate'] <= users[users['Id'] == owner['OwnerUserId'].unique()[0]]['CreationDate'].values[0] + pd.to_timedelta(T, 'days'))]).reset_index(level = 1, drop=True)\n",
        "#     return users"
      ],
      "execution_count": 0,
      "outputs": []
    },
    {
      "cell_type": "code",
      "metadata": {
        "id": "4GpDTr0oyovM",
        "colab_type": "code",
        "colab": {}
      },
      "source": [
        "getTask2Posts(users_df, posts_df)"
      ],
      "execution_count": 0,
      "outputs": []
    },
    {
      "cell_type": "code",
      "metadata": {
        "colab_type": "code",
        "id": "Pd1prQORl7Rx",
        "colab": {}
      },
      "source": [
        "# Churn in Task 1\n",
        "#   Churners: Users who did not post for at least 6 months from their K-th post \n",
        "#   Stayers:  Users who created at least one post within the 6 months from their K-th post\n",
        "\n",
        "def getTask1Labels(users, posts, K=20):\n",
        "    label_df = users.drop(users.columns, axis=1)\n",
        "    label_df = getTask1Users(label_df, posts, K=K)\n",
        "    label_df = getTimeGap1OfUser(label_df, posts)\n",
        "    label_df = pd.merge(label_df, getTimeGapsOfPosts(posts, K), on='OwnerUserId')\n",
        "    print(label_df)\n",
        "    label_df = pd.merge(label_df, getTimeLastGapOfPosts(posts), on='OwnerUserId')\n",
        "    label_df = getTimeSinceLastPost(label_df, posts)\n",
        "    label_df = pd.merge(label_df, getTimeMeanGap(posts), on='OwnerUserId')\n",
        "    label_df = pd.merge(label_df, getNumAnswers(posts), on='OwnerUserId')\n",
        "    label_df = pd.merge(label_df, getNumQuestions(posts), on='OwnerUserId')\n",
        "    label_df = pd.merge(label_df, getNumQuestions(label_df['num_answers'], label_df['num_questions']), on='OwnerUserId')\n",
        "    \n",
        "    label_df['is_churn'] = 0.0\n",
        "    return label_df\n"
      ],
      "execution_count": 0,
      "outputs": []
    },
    {
      "cell_type": "code",
      "metadata": {
        "id": "V9kguW_7GxtR",
        "colab_type": "code",
        "outputId": "92fb85d7-c99d-4efc-8e98-7a5931ac6fcf",
        "colab": {
          "base_uri": "https://localhost:8080/",
          "height": 1000
        }
      },
      "source": [
        "getTask1Labels(users_df, posts_df).head()"
      ],
      "execution_count": 319,
      "outputs": [
        {
          "output_type": "stream",
          "text": [
            "OwnerUserId    \n",
            "49           0     1.388314e+05\n",
            "             0     2.711193e+06\n",
            "             0     1.540083e+07\n",
            "             0     4.268178e+06\n",
            "             0     8.113198e+04\n",
            "             0     6.037341e+05\n",
            "             0     3.180121e+05\n",
            "             0     1.315864e+06\n",
            "             0     3.865373e+06\n",
            "             0     1.040040e+06\n",
            "             0     3.536625e+06\n",
            "             0     3.291128e+06\n",
            "             0     2.044127e+06\n",
            "             0     9.814771e+06\n",
            "             0     1.199587e+07\n",
            "             0     3.545225e+06\n",
            "             0     5.122160e+02\n",
            "             0     8.409170e+02\n",
            "             0     6.814835e+04\n",
            "53           1     5.085749e+05\n",
            "             1     5.018173e+04\n",
            "             1     7.628693e+04\n",
            "             1     3.029222e+04\n",
            "             1     1.143713e+06\n",
            "             1     1.462355e+06\n",
            "             1     2.130517e+05\n",
            "             1     2.932523e+06\n",
            "             1     9.050564e+04\n",
            "             1     4.640255e+06\n",
            "             1     3.286944e+05\n",
            "                       ...     \n",
            "22733        18    3.551924e+05\n",
            "             18    4.195456e+04\n",
            "             18    7.798062e+05\n",
            "             18    1.026579e+06\n",
            "             18    1.031019e+05\n",
            "             18    2.221558e+05\n",
            "             18    2.174247e+05\n",
            "             18    4.051368e+05\n",
            "             18    2.565923e+05\n",
            "             18    3.378661e+04\n",
            "             18    3.696079e+05\n",
            "32436        19    9.414926e+03\n",
            "             19    2.449489e+06\n",
            "             19    1.120240e+03\n",
            "             19    4.309684e+06\n",
            "             19    1.004984e+06\n",
            "             19    1.896722e+06\n",
            "             19    3.954667e+03\n",
            "             19    5.579122e+06\n",
            "             19    1.740467e+05\n",
            "             19    5.978295e+05\n",
            "             19    1.180973e+03\n",
            "             19    1.258348e+06\n",
            "             19    3.990187e+04\n",
            "             19    2.519112e+07\n",
            "             19    1.032935e+06\n",
            "             19    3.204500e+03\n",
            "             19    1.353910e+03\n",
            "             19    1.847429e+06\n",
            "             19    2.764547e+06\n",
            "Name: CreationDate, Length: 380, dtype: float64\n"
          ],
          "name": "stdout"
        },
        {
          "output_type": "error",
          "ename": "AttributeError",
          "evalue": "ignored",
          "traceback": [
            "\u001b[0;31m---------------------------------------------------------------------------\u001b[0m",
            "\u001b[0;31mAttributeError\u001b[0m                            Traceback (most recent call last)",
            "\u001b[0;32m<ipython-input-319-094ffe252689>\u001b[0m in \u001b[0;36m<module>\u001b[0;34m()\u001b[0m\n\u001b[0;32m----> 1\u001b[0;31m \u001b[0mgetTask1Labels\u001b[0m\u001b[0;34m(\u001b[0m\u001b[0musers_df\u001b[0m\u001b[0;34m,\u001b[0m \u001b[0mposts_df\u001b[0m\u001b[0;34m)\u001b[0m\u001b[0;34m.\u001b[0m\u001b[0mhead\u001b[0m\u001b[0;34m(\u001b[0m\u001b[0;34m)\u001b[0m\u001b[0;34m\u001b[0m\u001b[0;34m\u001b[0m\u001b[0m\n\u001b[0m",
            "\u001b[0;32m<ipython-input-293-0fbb46c041f7>\u001b[0m in \u001b[0;36mgetTask1Labels\u001b[0;34m(users, posts, K)\u001b[0m\n\u001b[1;32m      4\u001b[0m     \u001b[0mlabel_df\u001b[0m \u001b[0;34m=\u001b[0m \u001b[0mgetTask1Users\u001b[0m\u001b[0;34m(\u001b[0m\u001b[0mlabel_df\u001b[0m\u001b[0;34m,\u001b[0m \u001b[0mposts\u001b[0m\u001b[0;34m,\u001b[0m \u001b[0mK\u001b[0m\u001b[0;34m=\u001b[0m\u001b[0mK\u001b[0m\u001b[0;34m)\u001b[0m\u001b[0;34m\u001b[0m\u001b[0;34m\u001b[0m\u001b[0m\n\u001b[1;32m      5\u001b[0m     \u001b[0mlabel_df\u001b[0m \u001b[0;34m=\u001b[0m \u001b[0mgetTimeGap1OfUser\u001b[0m\u001b[0;34m(\u001b[0m\u001b[0mlabel_df\u001b[0m\u001b[0;34m,\u001b[0m \u001b[0mposts\u001b[0m\u001b[0;34m)\u001b[0m\u001b[0;34m\u001b[0m\u001b[0;34m\u001b[0m\u001b[0m\n\u001b[0;32m----> 6\u001b[0;31m     \u001b[0mlabel_df\u001b[0m \u001b[0;34m=\u001b[0m \u001b[0mpd\u001b[0m\u001b[0;34m.\u001b[0m\u001b[0mmerge\u001b[0m\u001b[0;34m(\u001b[0m\u001b[0mlabel_df\u001b[0m\u001b[0;34m,\u001b[0m \u001b[0mgetTimeGapsOfPosts\u001b[0m\u001b[0;34m(\u001b[0m\u001b[0mposts\u001b[0m\u001b[0;34m,\u001b[0m \u001b[0mK\u001b[0m\u001b[0;34m)\u001b[0m\u001b[0;34m,\u001b[0m \u001b[0mon\u001b[0m\u001b[0;34m=\u001b[0m\u001b[0;34m'OwnerUserId'\u001b[0m\u001b[0;34m)\u001b[0m\u001b[0;34m\u001b[0m\u001b[0;34m\u001b[0m\u001b[0m\n\u001b[0m\u001b[1;32m      7\u001b[0m     \u001b[0mprint\u001b[0m\u001b[0;34m(\u001b[0m\u001b[0mlabel_df\u001b[0m\u001b[0;34m)\u001b[0m\u001b[0;34m\u001b[0m\u001b[0;34m\u001b[0m\u001b[0m\n\u001b[1;32m      8\u001b[0m     \u001b[0mlabel_df\u001b[0m \u001b[0;34m=\u001b[0m \u001b[0mpd\u001b[0m\u001b[0;34m.\u001b[0m\u001b[0mmerge\u001b[0m\u001b[0;34m(\u001b[0m\u001b[0mlabel_df\u001b[0m\u001b[0;34m,\u001b[0m \u001b[0mgetTimeLastGapOfPosts\u001b[0m\u001b[0;34m(\u001b[0m\u001b[0mposts\u001b[0m\u001b[0;34m)\u001b[0m\u001b[0;34m,\u001b[0m \u001b[0mon\u001b[0m\u001b[0;34m=\u001b[0m\u001b[0;34m'OwnerUserId'\u001b[0m\u001b[0;34m)\u001b[0m\u001b[0;34m\u001b[0m\u001b[0;34m\u001b[0m\u001b[0m\n",
            "\u001b[0;32m<ipython-input-318-3b4d2bddbf02>\u001b[0m in \u001b[0;36mgetTimeGapsOfPosts\u001b[0;34m(posts, K)\u001b[0m\n\u001b[1;32m      2\u001b[0m     \u001b[0mk_posts\u001b[0m \u001b[0;34m=\u001b[0m \u001b[0mgetTask1Posts\u001b[0m\u001b[0;34m(\u001b[0m\u001b[0mposts\u001b[0m\u001b[0;34m,\u001b[0m \u001b[0mK\u001b[0m\u001b[0;34m)\u001b[0m\u001b[0;34m.\u001b[0m\u001b[0mgroupby\u001b[0m\u001b[0;34m(\u001b[0m\u001b[0;34m'OwnerUserId'\u001b[0m\u001b[0;34m)\u001b[0m\u001b[0;34m.\u001b[0m\u001b[0mapply\u001b[0m\u001b[0;34m(\u001b[0m\u001b[0;32mlambda\u001b[0m \u001b[0mpost\u001b[0m \u001b[0;34m:\u001b[0m \u001b[0mpd\u001b[0m\u001b[0;34m.\u001b[0m\u001b[0mto_timedelta\u001b[0m\u001b[0;34m(\u001b[0m\u001b[0mpost\u001b[0m\u001b[0;34m[\u001b[0m\u001b[0;34m'CreationDate'\u001b[0m\u001b[0;34m]\u001b[0m\u001b[0;34m.\u001b[0m\u001b[0mdiff\u001b[0m\u001b[0;34m(\u001b[0m\u001b[0;34m)\u001b[0m\u001b[0;34m[\u001b[0m\u001b[0;36m1\u001b[0m\u001b[0;34m:\u001b[0m\u001b[0;34m]\u001b[0m\u001b[0;34m)\u001b[0m\u001b[0;34m.\u001b[0m\u001b[0mdt\u001b[0m\u001b[0;34m.\u001b[0m\u001b[0mtotal_seconds\u001b[0m\u001b[0;34m(\u001b[0m\u001b[0;34m)\u001b[0m\u001b[0;34m)\u001b[0m\u001b[0;34m\u001b[0m\u001b[0;34m\u001b[0m\u001b[0m\n\u001b[1;32m      3\u001b[0m     \u001b[0mprint\u001b[0m\u001b[0;34m(\u001b[0m\u001b[0mk_posts\u001b[0m\u001b[0;34m)\u001b[0m\u001b[0;34m\u001b[0m\u001b[0;34m\u001b[0m\u001b[0m\n\u001b[0;32m----> 4\u001b[0;31m     \u001b[0mk_posts\u001b[0m\u001b[0;34m.\u001b[0m\u001b[0mindex\u001b[0m \u001b[0;34m=\u001b[0m \u001b[0;34m[\u001b[0m\u001b[0;34m'gap'\u001b[0m \u001b[0;34m+\u001b[0m \u001b[0mstr\u001b[0m\u001b[0;34m(\u001b[0m\u001b[0mi\u001b[0m\u001b[0;34m+\u001b[0m\u001b[0;36m2\u001b[0m\u001b[0;34m)\u001b[0m \u001b[0;32mfor\u001b[0m \u001b[0mi\u001b[0m \u001b[0;32min\u001b[0m \u001b[0mrange\u001b[0m\u001b[0;34m(\u001b[0m\u001b[0mlen\u001b[0m\u001b[0;34m(\u001b[0m\u001b[0mk_posts\u001b[0m\u001b[0;34m.\u001b[0m\u001b[0mcolumns\u001b[0m\u001b[0;34m)\u001b[0m\u001b[0;34m)\u001b[0m\u001b[0;34m]\u001b[0m\u001b[0;34m\u001b[0m\u001b[0;34m\u001b[0m\u001b[0m\n\u001b[0m\u001b[1;32m      5\u001b[0m \u001b[0;31m#     k_posts.columns = ['gap' + str(i+2) for i in range(len(k_posts.columns))]\u001b[0m\u001b[0;34m\u001b[0m\u001b[0;34m\u001b[0m\u001b[0;34m\u001b[0m\u001b[0m\n\u001b[1;32m      6\u001b[0m     \u001b[0;32mreturn\u001b[0m \u001b[0mk_posts\u001b[0m\u001b[0;34m.\u001b[0m\u001b[0mreset_index\u001b[0m\u001b[0;34m(\u001b[0m\u001b[0;34m)\u001b[0m\u001b[0;34m\u001b[0m\u001b[0;34m\u001b[0m\u001b[0m\n",
            "\u001b[0;32m/usr/local/lib/python3.6/dist-packages/pandas/core/generic.py\u001b[0m in \u001b[0;36m__getattr__\u001b[0;34m(self, name)\u001b[0m\n\u001b[1;32m   5061\u001b[0m         if (name in self._internal_names_set or name in self._metadata or\n\u001b[1;32m   5062\u001b[0m                 name in self._accessors):\n\u001b[0;32m-> 5063\u001b[0;31m             \u001b[0;32mreturn\u001b[0m \u001b[0mobject\u001b[0m\u001b[0;34m.\u001b[0m\u001b[0m__getattribute__\u001b[0m\u001b[0;34m(\u001b[0m\u001b[0mself\u001b[0m\u001b[0;34m,\u001b[0m \u001b[0mname\u001b[0m\u001b[0;34m)\u001b[0m\u001b[0;34m\u001b[0m\u001b[0;34m\u001b[0m\u001b[0m\n\u001b[0m\u001b[1;32m   5064\u001b[0m         \u001b[0;32melse\u001b[0m\u001b[0;34m:\u001b[0m\u001b[0;34m\u001b[0m\u001b[0;34m\u001b[0m\u001b[0m\n\u001b[1;32m   5065\u001b[0m             \u001b[0;32mif\u001b[0m \u001b[0mself\u001b[0m\u001b[0;34m.\u001b[0m\u001b[0m_info_axis\u001b[0m\u001b[0;34m.\u001b[0m\u001b[0m_can_hold_identifiers_and_holds_name\u001b[0m\u001b[0;34m(\u001b[0m\u001b[0mname\u001b[0m\u001b[0;34m)\u001b[0m\u001b[0;34m:\u001b[0m\u001b[0;34m\u001b[0m\u001b[0;34m\u001b[0m\u001b[0m\n",
            "\u001b[0;31mAttributeError\u001b[0m: 'Series' object has no attribute 'columns'"
          ]
        }
      ]
    },
    {
      "cell_type": "code",
      "metadata": {
        "colab_type": "code",
        "id": "6fSfX-2ql7Rz",
        "colab": {}
      },
      "source": [
        "# Churn in Task2\n",
        "#   Churners: Users who did not post for at least 6 months from T days after account creation\n",
        "#   Stayers:  Users who created at least one post within the 6 months from T days after account creation\n",
        "\n",
        "def getTask2Labels(users, posts, T=30):\n",
        "    label_df = users.drop(users.columns, axis=1)\n",
        "    label_df = getTask1Users(label_df, posts, K=1)\n",
        "\n",
        "    label_df['is_churn'] = 0.0\n",
        "    return label_df\n"
      ],
      "execution_count": 0,
      "outputs": []
    },
    {
      "cell_type": "code",
      "metadata": {
        "id": "MDFPOFl5IU8t",
        "colab_type": "code",
        "outputId": "b0573c06-c6e7-4f3a-ebfd-34081a862e58",
        "colab": {
          "base_uri": "https://localhost:8080/",
          "height": 204
        }
      },
      "source": [
        "getTask2Labels(users_df, posts_df).head()"
      ],
      "execution_count": 143,
      "outputs": [
        {
          "output_type": "execute_result",
          "data": {
            "text/html": [
              "<div>\n",
              "<style scoped>\n",
              "    .dataframe tbody tr th:only-of-type {\n",
              "        vertical-align: middle;\n",
              "    }\n",
              "\n",
              "    .dataframe tbody tr th {\n",
              "        vertical-align: top;\n",
              "    }\n",
              "\n",
              "    .dataframe thead th {\n",
              "        text-align: right;\n",
              "    }\n",
              "</style>\n",
              "<table border=\"1\" class=\"dataframe\">\n",
              "  <thead>\n",
              "    <tr style=\"text-align: right;\">\n",
              "      <th></th>\n",
              "      <th>OwnerUserId</th>\n",
              "      <th>is_churn</th>\n",
              "    </tr>\n",
              "  </thead>\n",
              "  <tbody>\n",
              "    <tr>\n",
              "      <th>0</th>\n",
              "      <td>5</td>\n",
              "      <td>0.0</td>\n",
              "    </tr>\n",
              "    <tr>\n",
              "      <th>3</th>\n",
              "      <td>30</td>\n",
              "      <td>0.0</td>\n",
              "    </tr>\n",
              "    <tr>\n",
              "      <th>4</th>\n",
              "      <td>23</td>\n",
              "      <td>0.0</td>\n",
              "    </tr>\n",
              "    <tr>\n",
              "      <th>5</th>\n",
              "      <td>31</td>\n",
              "      <td>0.0</td>\n",
              "    </tr>\n",
              "    <tr>\n",
              "      <th>7</th>\n",
              "      <td>73</td>\n",
              "      <td>0.0</td>\n",
              "    </tr>\n",
              "  </tbody>\n",
              "</table>\n",
              "</div>"
            ],
            "text/plain": [
              "   OwnerUserId  is_churn\n",
              "0            5       0.0\n",
              "3           30       0.0\n",
              "4           23       0.0\n",
              "5           31       0.0\n",
              "7           73       0.0"
            ]
          },
          "metadata": {
            "tags": []
          },
          "execution_count": 143
        }
      ]
    },
    {
      "cell_type": "markdown",
      "metadata": {
        "colab_type": "text",
        "id": "nz2B7m3xl7R1"
      },
      "source": [
        "3. Extract features for each tasks"
      ]
    },
    {
      "cell_type": "markdown",
      "metadata": {
        "colab_type": "text",
        "id": "nGb3gqh-l7R2"
      },
      "source": [
        "3-1. Temporal features"
      ]
    },
    {
      "cell_type": "code",
      "metadata": {
        "colab_type": "code",
        "id": "hqzTqVCBl7R3",
        "scrolled": true,
        "colab": {}
      },
      "source": [
        "# Temporal features 1: gap1\n",
        "def getTimeGap1OfUser(users, posts):\n",
        "    first_post = getTask1Posts(posts, K=1)\n",
        "    \n",
        "    users['gap1'] = users.apply(lambda user : (first_post[first_post['OwnerUserId'] == user['OwnerUserId']]['CreationDate'].reset_index(drop=True) - users_df[users_df['Id'] == user['OwnerUserId']]['CreationDate'].reset_index(drop=True)).dt.total_seconds(), axis = 1)\n",
        "    return users\n"
      ],
      "execution_count": 0,
      "outputs": []
    },
    {
      "cell_type": "code",
      "metadata": {
        "id": "_EHwiCpxK18k",
        "colab_type": "code",
        "outputId": "82da2b9e-3387-436b-c6a9-035fce38849c",
        "colab": {
          "base_uri": "https://localhost:8080/",
          "height": 55
        }
      },
      "source": [
        "post_temp['gap'] = post_temp.apply(lambda post : post['CreationDate'].diff().tolist())\n",
        "print(post_temp['gap'].iloc[-1])"
      ],
      "execution_count": 0,
      "outputs": [
        {
          "output_type": "stream",
          "text": [
            "[NaT, Timedelta('0 days 14:21:25.293000'), Timedelta('0 days 00:14:48.797000'), Timedelta('0 days 08:47:33.007000'), Timedelta('0 days 02:01:49.156000'), Timedelta('5 days 17:47:39.614000'), Timedelta('0 days 20:06:31.533000'), Timedelta('0 days 20:48:10.697000'), Timedelta('3 days 07:59:44.033000'), Timedelta('0 days 00:06:10.617000'), Timedelta('4 days 19:02:11.143000'), Timedelta('4 days 08:25:12.413000'), Timedelta('1 days 01:24:51.917000'), Timedelta('3 days 02:54:37.030000'), Timedelta('0 days 13:13:00.820000'), Timedelta('7 days 21:11:32.533000'), Timedelta('3 days 22:02:03.164000'), Timedelta('4 days 01:00:48.976000'), Timedelta('8 days 00:29:10.014000'), Timedelta('25 days 12:14:17.293000')]\n"
          ],
          "name": "stdout"
        }
      ]
    },
    {
      "cell_type": "code",
      "metadata": {
        "colab_type": "code",
        "id": "ZkzNM2MGl7R5",
        "colab": {}
      },
      "source": [
        "# Temporal features 2: gapK\n",
        "def getTimeGapsOfPosts(posts, K):\n",
        "    k_posts = getTask1Posts(posts, K).groupby('OwnerUserId').apply(lambda post : pd.to_timedelta(post['CreationDate'].diff()[1:]).dt.total_seconds())\n",
        "    print(k_posts)\n",
        "    k_posts.index = ['gap' + str(i+2) for i in range(len(k_posts.columns))]\n",
        "#     k_posts.columns = ['gap' + str(i+2) for i in range(len(k_posts.columns))]\n",
        "    return k_posts.reset_index()\n"
      ],
      "execution_count": 0,
      "outputs": []
    },
    {
      "cell_type": "code",
      "metadata": {
        "colab_type": "code",
        "id": "tMKw3tZWl7R6",
        "colab": {}
      },
      "source": [
        "# Temporal features 3: last_gap\n",
        "def getTimeLastGapOfPosts(posts):\n",
        "    last_posts = posts[posts['OwnerUserId'] > 0].groupby('OwnerUserId').filter(lambda post : len(post) >= 2).groupby('OwnerUserId').apply(lambda owner : pd.to_timedelta(abs(owner.nlargest(2, 'CreationDate')['CreationDate'].diff()[1:])).dt.total_seconds()).reset_index(level=1, drop=True)\n",
        "    last_posts = last_posts.rename('last_gap')\n",
        "    return last_posts\n"
      ],
      "execution_count": 0,
      "outputs": []
    },
    {
      "cell_type": "code",
      "metadata": {
        "colab_type": "code",
        "id": "oiFrX45Xl7R8",
        "colab": {}
      },
      "source": [
        "# Temporal features 4: time_since_last_post\n",
        "def getTimeSinceLastPost(users, posts):\n",
        "    last_posts = posts[posts['OwnerUserId'] > 0].groupby('OwnerUserId').filter(lambda post : len(post) >= 1).groupby('OwnerUserId', as_index=False).apply(lambda owner : owner.nlargest(1, 'CreationDate'))[['OwnerUserId', 'CreationDate']].reset_index(drop=True)\n",
        "    users['time_since_last_post'] = users.apply(lambda user : (end_time - last_posts[last_posts['OwnerUserId'] == user['OwnerUserId']]['CreationDate']).dt.total_seconds(), axis = 1)\n",
        "    \n",
        "    return users\n"
      ],
      "execution_count": 0,
      "outputs": []
    },
    {
      "cell_type": "code",
      "metadata": {
        "colab_type": "code",
        "id": "okM3cXg3l7R-",
        "colab": {}
      },
      "source": [
        "# Temporal features 5: mean_gap\n",
        "def getTimeMeanGap(posts):\n",
        "    mean_gap_posts = posts[posts['OwnerUserId'] > 0].groupby('OwnerUserId').filter(lambda post : len(post) >= 2).groupby('OwnerUserId').apply(lambda post : pd.to_timedelta(post['CreationDate'].diff()[1:]).dt.total_seconds().mean())\n",
        "    mean_gap_posts = mean_gap_posts.rename('mean_gap')\n",
        "    return mean_gap_posts\n"
      ],
      "execution_count": 0,
      "outputs": []
    },
    {
      "cell_type": "markdown",
      "metadata": {
        "colab_type": "text",
        "id": "6EqH66uXl7SA"
      },
      "source": [
        "3-2. Frequency features"
      ]
    },
    {
      "cell_type": "code",
      "metadata": {
        "colab_type": "code",
        "id": "Pi76Vz5Nl7SB",
        "colab": {}
      },
      "source": [
        "# Frequency features 1: num_answers\n",
        "# Frequency features 2: num_questions\n",
        "def getNumAnswers(posts):\n",
        "    print(posts.columns)\n",
        "    num_answers = posts[posts['OwnerUserId'] > 0 & posts['PostTypeId'] == 2].groupby('OwnerUserId').count()\n",
        "    print(num_answers.count())\n",
        "    num_answers = num_answers.rename('num_answers')\n",
        "    return num_answers\n",
        "\n",
        "def getNumQuestions(posts):\n",
        "    num_questions = posts[posts['OwnerUserId'] > 0 & posts['PostTypeId'] == 1].groupby('OwnerUserId').count()\n",
        "    num_questions = num_questions.rename('num_questions')\n",
        "    return num_questions\n"
      ],
      "execution_count": 0,
      "outputs": []
    },
    {
      "cell_type": "code",
      "metadata": {
        "colab_type": "code",
        "id": "7Yta5_55l7SD",
        "colab": {}
      },
      "source": [
        "# Frequency features 3: ans_ques_ratio\n",
        "def getAnsQuesRatio(num_answers, num_questions):\n",
        "    return num_answers / num_questions\n"
      ],
      "execution_count": 0,
      "outputs": []
    },
    {
      "cell_type": "code",
      "metadata": {
        "colab_type": "code",
        "id": "tNgZeEjYl7SH",
        "colab": {}
      },
      "source": [
        "# Frequency features 4: num_posts\n",
        "def getNumPosts(posts):\n",
        "    posts['num_posts'] = posts['num_answers'] + posts['num_questions']\n",
        "    return posts\n"
      ],
      "execution_count": 0,
      "outputs": []
    },
    {
      "cell_type": "markdown",
      "metadata": {
        "colab_type": "text",
        "id": "o-U9olJLl7SK"
      },
      "source": [
        "3-3. Knowledge features"
      ]
    },
    {
      "cell_type": "code",
      "metadata": {
        "colab_type": "code",
        "id": "l38y9l7Kl7SL",
        "colab": {}
      },
      "source": [
        "# Knowledge features 1: accepted_answerer_rep\n",
        "def getRepOfAcceptedAnswerer(users, posts):\n",
        "    posts['accepted_answerer_rep'] = posts[(posts['PostTypeId'] == 1) & posts['AcceptedAnswerId'].notna()].apply(lambda post : users[posts_df[posts_df['Id'] == post['AcceptedAnswerId']]['OwnerUserId']]['Reputation']).mean()\n",
        "    return posts\n"
      ],
      "execution_count": 0,
      "outputs": []
    },
    {
      "cell_type": "code",
      "metadata": {
        "colab_type": "code",
        "id": "u2tkYrM1l7SM",
        "colab": {}
      },
      "source": [
        "# Knowledge features 2: max_rep_answerer \n",
        "def getMaxRepAmongAnswerer(users, posts):\n",
        "  ques = posts[posts['PostTypeId'] == 1]['Id'].tolist()\n",
        "  posts['accepted_answerer_rep'] = posts_df[posts_df['ParentId'].isin(ques)].groupby('ParentId').apply(lambda post : users[users['Id'] == post['OwnerUserId']]['Reputation']).max().mean()\n",
        "  return posts\n"
      ],
      "execution_count": 0,
      "outputs": []
    },
    {
      "cell_type": "code",
      "metadata": {
        "colab_type": "code",
        "id": "ehreYz6Vl7SO",
        "colab": {}
      },
      "source": [
        "# Knowledge features 3: num_que_answered\n",
        "def getNumQueAnswered(posts):\n",
        "    posts['num_que_answered'] = len(posts[posts['AnswerCount'] > 0 & posts['PostTypeId'] == 1])\n",
        "    return posts\n"
      ],
      "execution_count": 0,
      "outputs": []
    },
    {
      "cell_type": "code",
      "metadata": {
        "colab_type": "code",
        "id": "T1mKTAt4l7SQ",
        "colab": {}
      },
      "source": [
        "# Knowledge features 4: time_for_first_ans\n",
        "def getTimeForFirstAns(posts):\n",
        "    return\n"
      ],
      "execution_count": 0,
      "outputs": []
    },
    {
      "cell_type": "code",
      "metadata": {
        "colab_type": "code",
        "id": "fhxfGYF8l7SS",
        "colab": {}
      },
      "source": [
        "# Knowledge features 5: rep_questioner\n",
        "def getAvgRepOfQuestioner(users, posts):\n",
        "    posts['rep_questioner'] = posts[(posts['PostTypeId'] == 2)].apply(lambda post : users[posts_df[posts_df['Id'] == post['ParentId']]['OwnerUserId']]['Reputation']).mean()\n",
        "    return posts\n"
      ],
      "execution_count": 0,
      "outputs": []
    },
    {
      "cell_type": "code",
      "metadata": {
        "colab_type": "code",
        "id": "j-Vwd3_Yl7ST",
        "colab": {}
      },
      "source": [
        "# Knowledge features 6: rep_answerers\n",
        "def getAvgRepOfAnswerer(users, posts):\n",
        "    ques = posts[posts['PostTypeId'] == 1]['Id'].tolist()\n",
        "    posts['rep_answerers'] = posts_df[posts_df['ParentId'].isin(ques)].groupby('ParentId').apply(lambda post : users[users['Id'] == post['OwnerUserId']]['Reputation']).mean()\n",
        "    return posts\n"
      ],
      "execution_count": 0,
      "outputs": []
    },
    {
      "cell_type": "code",
      "metadata": {
        "colab_type": "code",
        "id": "k8kT7O60l7SV",
        "colab": {}
      },
      "source": [
        "# Knowledge features 7: rep_co_answerers\n",
        "def getAvgRepOfCoAnswerer(users, posts):\n",
        "    posts['rep_co_answerers'] = posts[posts['PostTypeId'] == 2].groupby('ParentID').apply(lambda ans : users_df[users_df['Id'] == ans['OwnerUserId']]['Reputation'].mean())\n",
        "    return\n"
      ],
      "execution_count": 0,
      "outputs": []
    },
    {
      "cell_type": "code",
      "metadata": {
        "colab_type": "code",
        "id": "G7_Dg4s4l7Sc",
        "scrolled": true,
        "colab": {}
      },
      "source": [
        "# Knowledge features 8: num_answers_recvd\n",
        "def getAvgNumAnsReceived(posts):\n",
        "    posts['num_answers_recvd'] = posts[posts['OwnerUserId'] > 0].groupby('OwnerUserId')[posts['PostTypeId'] == 1]['AnswerCount'].mean()\n",
        "    return posts\n"
      ],
      "execution_count": 0,
      "outputs": []
    },
    {
      "cell_type": "markdown",
      "metadata": {
        "colab_type": "text",
        "id": "qB3WcQkzl7Se"
      },
      "source": [
        "3-4. Speed features"
      ]
    },
    {
      "cell_type": "code",
      "metadata": {
        "colab_type": "code",
        "id": "OLjtYTBCl7Se",
        "colab": {}
      },
      "source": [
        "# Speed features 1: answering_speed\n",
        "def getAnsweringSpeed(posts):\n",
        "    posts['answering_speed'] = posts[posts['PostTypeId'] == 2].apply(lambda post : post['CreationDate'] - posts_df[posts_df['Id'] == post['ParentId']]['CreationDate'])\n",
        "    return posts\n"
      ],
      "execution_count": 0,
      "outputs": []
    },
    {
      "cell_type": "markdown",
      "metadata": {
        "colab_type": "text",
        "id": "PN25VoGSl7Si"
      },
      "source": [
        "3-5. Quality features"
      ]
    },
    {
      "cell_type": "code",
      "metadata": {
        "colab_type": "code",
        "id": "owAXLCHfl7Sj",
        "scrolled": true,
        "colab": {}
      },
      "source": [
        "# Quality features 1: ans_score\n",
        "# Quality features 2: que_score\n",
        "def getScoreOfAnswers(posts):\n",
        "    posts['ans_score'] = posts[posts['OwnerUserId'] > 0].groupby('OwnerUserId')[posts['PostTypeId'] == 2]['Score'].mean()\n",
        "    return posts\n",
        "\n",
        "def getScoreOfQuestions(posts):\n",
        "    posts['que_score'] = posts[posts['OwnerUserId'] > 0].groupby('OwnerUserId')[posts['PostTypeId'] == 1]['Score'].mean()\n",
        "    return posts\n"
      ],
      "execution_count": 0,
      "outputs": []
    },
    {
      "cell_type": "markdown",
      "metadata": {
        "colab_type": "text",
        "id": "hWpZ6Omvl7Sl"
      },
      "source": [
        "3-6. Consistency features"
      ]
    },
    {
      "cell_type": "code",
      "metadata": {
        "colab_type": "code",
        "id": "ZidajU65l7Sl",
        "scrolled": true,
        "colab": {}
      },
      "source": [
        "# Consistency features 1: ans_stddev\n",
        "# Consistency features 2: que_stddev\n",
        "def getStdevOfScoresOfAnswers(posts):\n",
        "    posts['ans_stddev'] = posts[posts['OwnerUserId'] > 0].groupby('OwnerUserId')[posts['PostTypeId'] == 2]['Score'].std()\n",
        "    return posts\n",
        "\n",
        "def getStdevOfScoresOfQuestions(posts):\n",
        "    posts['que_stddev'] = posts[posts['OwnerUserId'] > 0].groupby('OwnerUserId')[posts['PostTypeId'] == 1]['Score'].std()\n",
        "    return posts\n"
      ],
      "execution_count": 0,
      "outputs": []
    },
    {
      "cell_type": "markdown",
      "metadata": {
        "colab_type": "text",
        "id": "BzSasEbhl7Sn"
      },
      "source": [
        "3-7. Gratitude features"
      ]
    },
    {
      "cell_type": "code",
      "metadata": {
        "colab_type": "code",
        "id": "Bo5mJ4Wzl7Sn",
        "scrolled": true,
        "colab": {}
      },
      "source": [
        "# Gratitude features 1: ans_comments\n",
        "# Gratitude features 2: que_comments\n",
        "def getAvgNumOfAnswers(posts):\n",
        "    posts['ans_comments'] = posts[posts['OwnerUserId'] > 0].groupby('OwnerUserId')[posts['PostTypeId'] == 2]['CommentCount'].mean()\n",
        "    return posts\n",
        "\n",
        "def getAvgNumOfQuestions(posts):\n",
        "    posts['que_comments'] = posts[posts['OwnerUserId'] > 0].groupby('OwnerUserId')[posts['PostTypeId'] == 1]['CommentCount'].mean()\n",
        "    return posts\n"
      ],
      "execution_count": 0,
      "outputs": []
    },
    {
      "cell_type": "markdown",
      "metadata": {
        "colab_type": "text",
        "id": "7LovQqbal7So"
      },
      "source": [
        "3-8. Competitiveness features"
      ]
    },
    {
      "cell_type": "code",
      "metadata": {
        "colab_type": "code",
        "id": "7m7_sQbOl7Sp",
        "scrolled": true,
        "colab": {}
      },
      "source": [
        "# Competitiveness features 1: relative_rank_pos\n",
        "def getRelRankPos(posts):\n",
        "    return\n"
      ],
      "execution_count": 0,
      "outputs": []
    },
    {
      "cell_type": "markdown",
      "metadata": {
        "colab_type": "text",
        "id": "Dw04SbMBl7Sr"
      },
      "source": [
        "3-9. Content features"
      ]
    },
    {
      "cell_type": "code",
      "metadata": {
        "colab_type": "code",
        "id": "7vy95ac9l7Ss",
        "scrolled": false,
        "colab": {}
      },
      "source": [
        "# Content features 1: ans_length\n",
        "# Content features 2: que_length\n",
        "def getLengthOfAnswers(posts):\n",
        "    posts['ans_length'] = posts[posts['OwnerUserId'] > 0].groupby('OwnerUserId')[posts['PostTypeId'] == 2]['Body'].apply(lambda content : len(content)).mean()\n",
        "    return posts\n",
        "\n",
        "def getLengthOfQuestions(posts):\n",
        "    posts['que_length'] = posts[posts['OwnerUserId'] > 0].groupby('OwnerUserId')[posts['PostTypeId'] == 1]['Body'].apply(lambda content : len(content)).mean()\n",
        "    return posts"
      ],
      "execution_count": 0,
      "outputs": []
    },
    {
      "cell_type": "markdown",
      "metadata": {
        "colab_type": "text",
        "id": "_1mcHpyXl7Su"
      },
      "source": [
        "3-10. Extract all features for each tasks"
      ]
    },
    {
      "cell_type": "code",
      "metadata": {
        "colab_type": "code",
        "id": "Xh361Hnql7Su",
        "colab": {}
      },
      "source": [
        "def getFeatures(features, users, posts, task, K=None, T=None):\n",
        "    assert(task in [1,2])\n",
        "    \n",
        "    if -1 in features.index:\n",
        "        features = features.drop([-1])\n",
        "    \n",
        "    return features"
      ],
      "execution_count": 0,
      "outputs": []
    },
    {
      "cell_type": "code",
      "metadata": {
        "colab_type": "code",
        "id": "VQEy-5ksl7Sw",
        "scrolled": true,
        "outputId": "ca688605-e17a-4ad6-bb54-70cf60e83ea2",
        "colab": {
          "base_uri": "https://localhost:8080/",
          "height": 244
        }
      },
      "source": [
        "common_features = ['getTimeGap1OfUser',\n",
        "                   'getNumAnswers', 'getNumQuestions','getAnsQuesRatio',\n",
        "                   'getAnsweringSpeed',\n",
        "                   'getScoreOfAnswers', 'getScoreOfQuestions',\n",
        "                   'getStdevOfScoresOfAnswers', 'getStdevOfScoresOfQuestions',\n",
        "                   'getAvgNumOfAnswers', 'getAvgNumOfQuestions',\n",
        "                   'getRelRankPos',\n",
        "                   'getLengthOfAnswers', 'getLengthOfQuestions',\n",
        "                   'getRepOfAcceptedAnswerer', 'getMaxRepAmongAnswerer', 'getNumQueAnswered', 'getTimeForFirstAns', 'getAvgRepOfQuestioner', 'getAvgRepOfAnswerer', 'getAvgRepOfCoAnswerer', 'getAvgNumAnsReceived']\n",
        "task1_features = common_features + ['getTimeGapsOfPosts']\n",
        "for K in range(1, 20+1):\n",
        "    task1_features.append()\n",
        "    \n",
        "task2_features = common_features + ['getTimeLastGapOfPosts', 'getTimeSinceLastPost', 'getTimeMeanGap', 'getNumPosts']\n",
        "for T in [7, 15, 30]:\n",
        "    task2_features.append()"
      ],
      "execution_count": 0,
      "outputs": [
        {
          "output_type": "error",
          "ename": "TypeError",
          "evalue": "ignored",
          "traceback": [
            "\u001b[0;31m---------------------------------------------------------------------------\u001b[0m",
            "\u001b[0;31mTypeError\u001b[0m                                 Traceback (most recent call last)",
            "\u001b[0;32m<ipython-input-230-f5f3ce29b64e>\u001b[0m in \u001b[0;36m<module>\u001b[0;34m()\u001b[0m\n\u001b[1;32m      1\u001b[0m \u001b[0mtask1_features\u001b[0m \u001b[0;34m=\u001b[0m \u001b[0;34m[\u001b[0m\u001b[0;34m]\u001b[0m\u001b[0;34m\u001b[0m\u001b[0;34m\u001b[0m\u001b[0m\n\u001b[1;32m      2\u001b[0m \u001b[0;32mfor\u001b[0m \u001b[0mK\u001b[0m \u001b[0;32min\u001b[0m \u001b[0mrange\u001b[0m\u001b[0;34m(\u001b[0m\u001b[0;36m1\u001b[0m\u001b[0;34m,\u001b[0m \u001b[0;36m20\u001b[0m\u001b[0;34m+\u001b[0m\u001b[0;36m1\u001b[0m\u001b[0;34m)\u001b[0m\u001b[0;34m:\u001b[0m\u001b[0;34m\u001b[0m\u001b[0;34m\u001b[0m\u001b[0m\n\u001b[0;32m----> 3\u001b[0;31m     \u001b[0mtask1_features\u001b[0m\u001b[0;34m.\u001b[0m\u001b[0mappend\u001b[0m\u001b[0;34m(\u001b[0m\u001b[0;34m)\u001b[0m\u001b[0;34m\u001b[0m\u001b[0;34m\u001b[0m\u001b[0m\n\u001b[0m\u001b[1;32m      4\u001b[0m \u001b[0;34m\u001b[0m\u001b[0m\n\u001b[1;32m      5\u001b[0m \u001b[0mtask2_features\u001b[0m \u001b[0;34m=\u001b[0m \u001b[0;34m[\u001b[0m\u001b[0;34m]\u001b[0m\u001b[0;34m\u001b[0m\u001b[0;34m\u001b[0m\u001b[0m\n",
            "\u001b[0;31mTypeError\u001b[0m: append() takes exactly one argument (0 given)"
          ]
        }
      ]
    },
    {
      "cell_type": "markdown",
      "metadata": {
        "colab_type": "text",
        "id": "GmWhLseLl7Sy"
      },
      "source": [
        "4. Analyze features\n"
      ]
    },
    {
      "cell_type": "code",
      "metadata": {
        "colab_type": "code",
        "id": "UL5odKivl7Sy",
        "scrolled": true,
        "colab": {}
      },
      "source": [
        "# Figure 2: Gap between posts\n",
        "#    For a user who churns, gap between consecutive posts keeps increasing. \n",
        "#    Gaps for those who stay are much lower, and stabilize around 20,000 minutes,\n",
        "#      indicating routine posting activity in every ≈2 weeks.\n",
        "\n",
        "for K in range(2, 21):\n",
        "    pass"
      ],
      "execution_count": 0,
      "outputs": []
    },
    {
      "cell_type": "code",
      "metadata": {
        "colab_type": "code",
        "id": "NfVkPIxvl7S0",
        "scrolled": true,
        "colab": {}
      },
      "source": [
        "# Figure 3: # Answers vs Churn probability\n",
        "#    The probability of churning for a user decreases the more answers s/he provides.\n",
        "#    It is even lower if s/he asks more questions alongside.\n",
        "\n",
        "for features in task2_features:\n",
        "    pass"
      ],
      "execution_count": 0,
      "outputs": []
    },
    {
      "cell_type": "code",
      "metadata": {
        "colab_type": "code",
        "id": "_Y8Pt54yl7S1",
        "colab": {}
      },
      "source": [
        "# Figure 4: K vs Time taken for the first answer to arrive\n",
        "#    The more the time taken for a user to receive an answer, \n",
        "#      the lesser the satisfaction level and the more the chances of churning.\n"
      ],
      "execution_count": 0,
      "outputs": []
    },
    {
      "cell_type": "markdown",
      "metadata": {
        "colab_type": "text",
        "id": "7TXEYmQUl7S4"
      },
      "source": [
        "5. Train models for each tasks with the features\n",
        "\n",
        "    1. Decision Tree\n",
        "    2. SVM (Linear)\n",
        "    3. SVM (RBF)\n",
        "    4. Logistic Regression\n",
        "    "
      ]
    },
    {
      "cell_type": "code",
      "metadata": {
        "colab_type": "code",
        "id": "WehzIb8Gl7S4",
        "colab": {}
      },
      "source": [
        "# Table 2: Performance on Task 1\n",
        "\n",
        "from sklearn.tree import DecisionTreeClassifier\n",
        "from sklearn.svm import SVC\n",
        "from sklearn.linear_model import LogisticRegression\n",
        "from sklearn.model_selection import KFold\n",
        "\n",
        "seed = 1234\n",
        "\n",
        "for i, features in enumerate(task1_features):\n",
        "    pass"
      ],
      "execution_count": 0,
      "outputs": []
    },
    {
      "cell_type": "code",
      "metadata": {
        "colab_type": "code",
        "id": "2GO79rO0l7S7",
        "scrolled": true,
        "colab": {}
      },
      "source": [
        "# Table 3: Performance on Task 2\n",
        "\n",
        "for i, features in enumerate(task2_features):\n",
        "    pass"
      ],
      "execution_count": 0,
      "outputs": []
    },
    {
      "cell_type": "markdown",
      "metadata": {
        "colab_type": "text",
        "id": "i0OP2c0Kl7S-"
      },
      "source": [
        "6. Draw the graphs in the paper\n"
      ]
    },
    {
      "cell_type": "code",
      "metadata": {
        "colab_type": "code",
        "id": "k1qbhmsSl7S-",
        "colab": {}
      },
      "source": [
        "# Table 4: Temporal Features Analysis\n",
        "\n",
        "for i, features in enumerate(task1_features):\n",
        "    pass"
      ],
      "execution_count": 0,
      "outputs": []
    },
    {
      "cell_type": "code",
      "metadata": {
        "colab_type": "code",
        "id": "8cTcNyKOl7TA",
        "colab": {}
      },
      "source": [
        "# Figure 5: Churn prediction accuracy when features from each category are used in isolation\n"
      ],
      "execution_count": 0,
      "outputs": []
    }
  ]
}